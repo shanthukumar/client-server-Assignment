{
  "nbformat": 4,
  "nbformat_minor": 0,
  "metadata": {
    "colab": {
      "name": "server.ipynb",
      "provenance": []
    },
    "kernelspec": {
      "name": "python3",
      "display_name": "Python 3"
    },
    "language_info": {
      "name": "python"
    }
  },
  "cells": [
    {
      "cell_type": "code",
      "metadata": {
        "id": "kVyRrT2EjOjh"
      },
      "source": [
        "import socket\n",
        "import sys\n",
        "\n",
        "s = socket.socket(socket.AF_INET, socket.SOCK_STREAM)\n",
        "port = 3125\n",
        "s.bind(('0.0.0.0', port))\n",
        "print ('Socket binded to port 3125')\n",
        "s.listen(3)\n",
        "print ('socket is listening')\n",
        "\n",
        "while True:\n",
        "    c, addr = s.accept()\n",
        "    print ('Got connection from ', addr)\n",
        "    print (c.recv(1024))\n",
        "    c.close()"
      ],
      "execution_count": null,
      "outputs": []
    }
  ]
}