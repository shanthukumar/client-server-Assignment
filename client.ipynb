{
  "nbformat": 4,
  "nbformat_minor": 0,
  "metadata": {
    "colab": {
      "name": "client.ipynb",
      "provenance": []
    },
    "kernelspec": {
      "name": "python3",
      "display_name": "Python 3"
    },
    "language_info": {
      "name": "python"
    }
  },
  "cells": [
    {
      "cell_type": "code",
      "metadata": {
        "id": "4Sc2JEBFjY4P"
      },
      "source": [
        "import socket\n",
        "\n",
        "s = socket.socket()\n",
        "port = 3125\n",
        "s.connect(('localhost', port))\n",
        "z = 'Welcome to Manipal'\n",
        "s.sendall(z.encode())    \n",
        "s.close()"
      ],
      "execution_count": null,
      "outputs": []
    }
  ]
}